{
 "cells": [
  {
   "cell_type": "code",
   "execution_count": 56,
   "id": "2faf810f-2b1d-4a32-9d92-5c5b08adfc15",
   "metadata": {},
   "outputs": [],
   "source": [
    "import pandas as pd\n",
    "import numpy as np\n",
    "import matplotlib.pyplot as plt\n",
    "import seaborn as sns; sns.set()\n",
    "import torch as pt"
   ]
  },
  {
   "cell_type": "code",
   "execution_count": 86,
   "id": "9105175e-b634-41b2-8b4c-9d7279aea89f",
   "metadata": {},
   "outputs": [],
   "source": [
    "def gen_t(res=1e-3):\n",
    "    t = np.arange(0, 1+res, res)\n",
    "    return t"
   ]
  },
  {
   "cell_type": "code",
   "execution_count": 452,
   "id": "5515a051-5dad-48c8-a07b-5e2bb59cf0b9",
   "metadata": {},
   "outputs": [],
   "source": [
    "def spline_points(points, res):\n",
    "    t = np.arange(0,1+res,res)[np.newaxis,:]\n",
    "    curve = [lerp(points[i-1], points[i], t) for i in range(1, len(points))]\n",
    "    while len(curve) > 1:\n",
    "        curve = [lerp(curve[i-1], curve[i], t) for i in range(1, len(curve))]\n",
    "    spline = curve[0]\n",
    "    return spline"
   ]
  },
  {
   "cell_type": "code",
   "execution_count": 176,
   "id": "ac8cb4e8-f4a0-4967-bb23-d80e5ad5f1db",
   "metadata": {},
   "outputs": [],
   "source": [
    "def lerp(start, end, t):\n",
    "    if len(start.shape) == 1: start = start[:,np.newaxis]\n",
    "    if len(end.shape) == 1: end = end[:,np.newaxis]\n",
    "    if len(t.shape) == 1: t = t[np.newaxis,:]\n",
    "    \n",
    "    vals = start + ((end-start) * t)\n",
    "    return vals"
   ]
  },
  {
   "cell_type": "code",
   "execution_count": 466,
   "id": "eecf9a23-7ea0-435d-98d1-536d8a39bd23",
   "metadata": {},
   "outputs": [],
   "source": [
    "spline_count = 5\n",
    "points = np.random.uniform(size=(spline_count+2, 2))\n",
    "x, y = spline_points(points, 1e-2)"
   ]
  },
  {
   "cell_type": "code",
   "execution_count": 467,
   "id": "f89cd798-6257-44f0-b7f6-070b2cc36828",
   "metadata": {},
   "outputs": [
    {
     "data": {
      "text/plain": [
       "(0.0, 1.0)"
      ]
     },
     "execution_count": 467,
     "metadata": {},
     "output_type": "execute_result"
    },
    {
     "data": {
      "image/png": "[encoded data removed]",
      "text/plain": [
       "<Figure size 576x576 with 1 Axes>"
      ]
     },
     "metadata": {},
     "output_type": "display_data"
    }
   ],
   "source": [
    "plt.figure(figsize=(8,8))\n",
    "sns.lineplot(x=x, y=y, color='#8da0cb', sort=False)\n",
    "sns.scatterplot(x=points[:,0], y=points[:,1], color='#fc8d62')\n",
    "plt.xlim(0, 1)\n",
    "plt.ylim(0, 1)"
   ]
  },
  {
   "cell_type": "code",
   "execution_count": null,
   "id": "e0f382bc-2d5d-4990-a542-ec7561ab603b",
   "metadata": {},
   "outputs": [],
   "source": []
  }
 ],
 "metadata": {
  "kernelspec": {
   "display_name": "Python [conda env:dev]",
   "language": "python",
   "name": "conda-env-dev-py"
  },
  "language_info": {
   "codemirror_mode": {
    "name": "ipython",
    "version": 3
   },
   "file_extension": ".py",
   "mimetype": "text/x-python",
   "name": "python",
   "nbconvert_exporter": "python",
   "pygments_lexer": "ipython3",
   "version": "3.9.6"
  }
 },
 "nbformat": 4,
 "nbformat_minor": 5
}
